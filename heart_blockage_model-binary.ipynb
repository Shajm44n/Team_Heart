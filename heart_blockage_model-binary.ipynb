{
 "cells": [
  {
   "cell_type": "code",
   "execution_count": 7,
   "id": "659111ee",
   "metadata": {},
   "outputs": [
    {
     "name": "stdout",
     "output_type": "stream",
     "text": [
      "Requirement already satisfied: tensorflow==2.1 in c:\\users\\user\\anaconda3\\envs\\pythonopencv\\lib\\site-packages (2.1.0)\n",
      "Requirement already satisfied: keras-applications>=1.0.8 in c:\\users\\user\\anaconda3\\envs\\pythonopencv\\lib\\site-packages (from tensorflow==2.1) (1.0.8)\n",
      "Requirement already satisfied: termcolor>=1.1.0 in c:\\users\\user\\anaconda3\\envs\\pythonopencv\\lib\\site-packages (from tensorflow==2.1) (1.1.0)\n",
      "Requirement already satisfied: google-pasta>=0.1.6 in c:\\users\\user\\anaconda3\\envs\\pythonopencv\\lib\\site-packages (from tensorflow==2.1) (0.2.0)\n",
      "Requirement already satisfied: numpy<2.0,>=1.16.0 in c:\\users\\user\\anaconda3\\envs\\pythonopencv\\lib\\site-packages (from tensorflow==2.1) (1.19.2)\n",
      "Requirement already satisfied: grpcio>=1.8.6 in c:\\users\\user\\anaconda3\\envs\\pythonopencv\\lib\\site-packages (from tensorflow==2.1) (1.36.1)\n",
      "Requirement already satisfied: scipy==1.4.1 in c:\\users\\user\\anaconda3\\envs\\pythonopencv\\lib\\site-packages (from tensorflow==2.1) (1.4.1)\n",
      "Requirement already satisfied: opt-einsum>=2.3.2 in c:\\users\\user\\anaconda3\\envs\\pythonopencv\\lib\\site-packages (from tensorflow==2.1) (3.3.0)\n",
      "Requirement already satisfied: wheel>=0.26 in c:\\users\\user\\anaconda3\\envs\\pythonopencv\\lib\\site-packages (from tensorflow==2.1) (0.37.0)\n",
      "Requirement already satisfied: astor>=0.6.0 in c:\\users\\user\\anaconda3\\envs\\pythonopencv\\lib\\site-packages (from tensorflow==2.1) (0.8.1)\n",
      "Requirement already satisfied: protobuf>=3.8.0 in c:\\users\\user\\anaconda3\\envs\\pythonopencv\\lib\\site-packages (from tensorflow==2.1) (3.17.2)\n",
      "Requirement already satisfied: tensorflow-estimator<2.2.0,>=2.1.0rc0 in c:\\users\\user\\anaconda3\\envs\\pythonopencv\\lib\\site-packages (from tensorflow==2.1) (2.1.0)\n",
      "Requirement already satisfied: absl-py>=0.7.0 in c:\\users\\user\\anaconda3\\envs\\pythonopencv\\lib\\site-packages (from tensorflow==2.1) (0.15.0)\n",
      "Requirement already satisfied: wrapt>=1.11.1 in c:\\users\\user\\anaconda3\\envs\\pythonopencv\\lib\\site-packages (from tensorflow==2.1) (1.12.1)\n",
      "Requirement already satisfied: gast==0.2.2 in c:\\users\\user\\anaconda3\\envs\\pythonopencv\\lib\\site-packages (from tensorflow==2.1) (0.2.2)\n",
      "Requirement already satisfied: six>=1.12.0 in c:\\users\\user\\anaconda3\\envs\\pythonopencv\\lib\\site-packages (from tensorflow==2.1) (1.16.0)\n",
      "Requirement already satisfied: keras-preprocessing>=1.1.0 in c:\\users\\user\\anaconda3\\envs\\pythonopencv\\lib\\site-packages (from tensorflow==2.1) (1.1.2)\n",
      "Requirement already satisfied: tensorboard<2.2.0,>=2.1.0 in c:\\users\\user\\anaconda3\\envs\\pythonopencv\\lib\\site-packages (from tensorflow==2.1) (2.1.1)\n",
      "Requirement already satisfied: h5py in c:\\users\\user\\anaconda3\\envs\\pythonopencv\\lib\\site-packages (from keras-applications>=1.0.8->tensorflow==2.1) (2.8.0)\n",
      "Requirement already satisfied: google-auth<2,>=1.6.3 in c:\\users\\user\\anaconda3\\envs\\pythonopencv\\lib\\site-packages (from tensorboard<2.2.0,>=2.1.0->tensorflow==2.1) (1.33.0)\n",
      "Requirement already satisfied: requests<3,>=2.21.0 in c:\\users\\user\\anaconda3\\envs\\pythonopencv\\lib\\site-packages (from tensorboard<2.2.0,>=2.1.0->tensorflow==2.1) (2.27.1)\n",
      "Requirement already satisfied: setuptools>=41.0.0 in c:\\users\\user\\anaconda3\\envs\\pythonopencv\\lib\\site-packages (from tensorboard<2.2.0,>=2.1.0->tensorflow==2.1) (58.0.4)\n",
      "Requirement already satisfied: werkzeug>=0.11.15 in c:\\users\\user\\anaconda3\\envs\\pythonopencv\\lib\\site-packages (from tensorboard<2.2.0,>=2.1.0->tensorflow==2.1) (0.16.1)\n",
      "Requirement already satisfied: markdown>=2.6.8 in c:\\users\\user\\anaconda3\\envs\\pythonopencv\\lib\\site-packages (from tensorboard<2.2.0,>=2.1.0->tensorflow==2.1) (3.3.4)\n",
      "Requirement already satisfied: google-auth-oauthlib<0.5,>=0.4.1 in c:\\users\\user\\anaconda3\\envs\\pythonopencv\\lib\\site-packages (from tensorboard<2.2.0,>=2.1.0->tensorflow==2.1) (0.4.4)\n",
      "Requirement already satisfied: cachetools<5.0,>=2.0.0 in c:\\users\\user\\anaconda3\\envs\\pythonopencv\\lib\\site-packages (from google-auth<2,>=1.6.3->tensorboard<2.2.0,>=2.1.0->tensorflow==2.1) (4.2.2)\n",
      "Requirement already satisfied: pyasn1-modules>=0.2.1 in c:\\users\\user\\anaconda3\\envs\\pythonopencv\\lib\\site-packages (from google-auth<2,>=1.6.3->tensorboard<2.2.0,>=2.1.0->tensorflow==2.1) (0.2.8)\n",
      "Requirement already satisfied: rsa<5,>=3.1.4 in c:\\users\\user\\anaconda3\\envs\\pythonopencv\\lib\\site-packages (from google-auth<2,>=1.6.3->tensorboard<2.2.0,>=2.1.0->tensorflow==2.1) (4.7.2)\n",
      "Requirement already satisfied: requests-oauthlib>=0.7.0 in c:\\users\\user\\anaconda3\\envs\\pythonopencv\\lib\\site-packages (from google-auth-oauthlib<0.5,>=0.4.1->tensorboard<2.2.0,>=2.1.0->tensorflow==2.1) (1.3.0)\n",
      "Requirement already satisfied: importlib-metadata in c:\\users\\user\\anaconda3\\envs\\pythonopencv\\lib\\site-packages (from markdown>=2.6.8->tensorboard<2.2.0,>=2.1.0->tensorflow==2.1) (4.8.2)\n",
      "Requirement already satisfied: pyasn1<0.5.0,>=0.4.6 in c:\\users\\user\\anaconda3\\envs\\pythonopencv\\lib\\site-packages (from pyasn1-modules>=0.2.1->google-auth<2,>=1.6.3->tensorboard<2.2.0,>=2.1.0->tensorflow==2.1) (0.4.8)\n",
      "Requirement already satisfied: urllib3<1.27,>=1.21.1 in c:\\users\\user\\anaconda3\\envs\\pythonopencv\\lib\\site-packages (from requests<3,>=2.21.0->tensorboard<2.2.0,>=2.1.0->tensorflow==2.1) (1.26.8)\n",
      "Requirement already satisfied: charset-normalizer~=2.0.0 in c:\\users\\user\\anaconda3\\envs\\pythonopencv\\lib\\site-packages (from requests<3,>=2.21.0->tensorboard<2.2.0,>=2.1.0->tensorflow==2.1) (2.0.4)\n",
      "Requirement already satisfied: idna<4,>=2.5 in c:\\users\\user\\anaconda3\\envs\\pythonopencv\\lib\\site-packages (from requests<3,>=2.21.0->tensorboard<2.2.0,>=2.1.0->tensorflow==2.1) (3.3)\n",
      "Requirement already satisfied: certifi>=2017.4.17 in c:\\users\\user\\anaconda3\\envs\\pythonopencv\\lib\\site-packages (from requests<3,>=2.21.0->tensorboard<2.2.0,>=2.1.0->tensorflow==2.1) (2021.5.30)\n",
      "Requirement already satisfied: oauthlib>=3.0.0 in c:\\users\\user\\anaconda3\\envs\\pythonopencv\\lib\\site-packages (from requests-oauthlib>=0.7.0->google-auth-oauthlib<0.5,>=0.4.1->tensorboard<2.2.0,>=2.1.0->tensorflow==2.1) (3.1.1)\n",
      "Requirement already satisfied: typing-extensions>=3.6.4 in c:\\users\\user\\anaconda3\\envs\\pythonopencv\\lib\\site-packages (from importlib-metadata->markdown>=2.6.8->tensorboard<2.2.0,>=2.1.0->tensorflow==2.1) (4.0.1)\n",
      "Requirement already satisfied: zipp>=0.5 in c:\\users\\user\\anaconda3\\envs\\pythonopencv\\lib\\site-packages (from importlib-metadata->markdown>=2.6.8->tensorboard<2.2.0,>=2.1.0->tensorflow==2.1) (3.6.0)\n",
      "Collecting keras==2.3.1\n",
      "  Downloading Keras-2.3.1-py2.py3-none-any.whl (377 kB)\n",
      "Requirement already satisfied: six>=1.9.0 in c:\\users\\user\\anaconda3\\envs\\pythonopencv\\lib\\site-packages (from keras==2.3.1) (1.16.0)\n",
      "Requirement already satisfied: keras-applications>=1.0.6 in c:\\users\\user\\anaconda3\\envs\\pythonopencv\\lib\\site-packages (from keras==2.3.1) (1.0.8)\n",
      "Requirement already satisfied: h5py in c:\\users\\user\\anaconda3\\envs\\pythonopencv\\lib\\site-packages (from keras==2.3.1) (2.8.0)\n",
      "Requirement already satisfied: scipy>=0.14 in c:\\users\\user\\anaconda3\\envs\\pythonopencv\\lib\\site-packages (from keras==2.3.1) (1.4.1)\n",
      "Requirement already satisfied: numpy>=1.9.1 in c:\\users\\user\\anaconda3\\envs\\pythonopencv\\lib\\site-packages (from keras==2.3.1) (1.19.2)\n",
      "Requirement already satisfied: pyyaml in c:\\users\\user\\anaconda3\\envs\\pythonopencv\\lib\\site-packages (from keras==2.3.1) (5.4.1)\n",
      "Requirement already satisfied: keras-preprocessing>=1.0.5 in c:\\users\\user\\anaconda3\\envs\\pythonopencv\\lib\\site-packages (from keras==2.3.1) (1.1.2)\n",
      "Installing collected packages: keras\n",
      "  Attempting uninstall: keras\n",
      "    Found existing installation: keras 2.8.0\n",
      "    Uninstalling keras-2.8.0:\n",
      "      Successfully uninstalled keras-2.8.0\n",
      "Successfully installed keras-2.3.1\n"
     ]
    }
   ],
   "source": [
    "!pip install tensorflow==2.1\n",
    "!pip install keras==2.3.1\n"
   ]
  },
  {
   "cell_type": "code",
   "execution_count": 1,
   "id": "4c6cf01c",
   "metadata": {},
   "outputs": [
    {
     "name": "stderr",
     "output_type": "stream",
     "text": [
      "Using TensorFlow backend.\n"
     ]
    }
   ],
   "source": [
    "from keras.models import Sequential\n",
    "from keras.layers.convolutional import Conv2D\n",
    "from keras.layers import MaxPooling2D,Flatten,Dense\n",
    "#from keras.optimizers import adam_v2"
   ]
  },
  {
   "cell_type": "code",
   "execution_count": 2,
   "id": "028ae59d",
   "metadata": {},
   "outputs": [],
   "source": [
    "model=Sequential()\n",
    "model.add(Conv2D(30,(3,3),input_shape=(64,64,3),activation=\"relu\"))\n",
    "model.add(MaxPooling2D(pool_size=(2,2)))\n",
    "model.add(Conv2D(15,(3,3),activation=\"relu\"))\n",
    "model.add(MaxPooling2D(pool_size=(2,2)))\n",
    "model.add(Flatten())\n",
    "model.add(Dense(120,activation=\"relu\"))\n",
    "model.add(Dense(1,activation=\"sigmoid\"))\n",
    "#optimizer=adam_v2.Adam(learning_rate=0.01)\n",
    "model.compile(optimizer='adam',loss='binary_crossentropy',metrics=['accuracy'])\n"
   ]
  },
  {
   "cell_type": "code",
   "execution_count": 3,
   "id": "b0dd02b0",
   "metadata": {},
   "outputs": [
    {
     "name": "stdout",
     "output_type": "stream",
     "text": [
      "Found 478 images belonging to 2 classes.\n",
      "Found 106 images belonging to 2 classes.\n",
      "Epoch 1/5\n",
      "100/100 [==============================] - 228s 2s/step - loss: 0.4126 - accuracy: 0.7844 - val_loss: 0.3220 - val_accuracy: 0.9811\n",
      "Epoch 2/5\n",
      "100/100 [==============================] - 213s 2s/step - loss: 0.0239 - accuracy: 0.9969 - val_loss: 0.0043 - val_accuracy: 1.0000\n",
      "Epoch 3/5\n",
      "100/100 [==============================] - 202s 2s/step - loss: 0.0016 - accuracy: 1.0000 - val_loss: 9.0089e-04 - val_accuracy: 1.0000\n",
      "Epoch 4/5\n",
      "100/100 [==============================] - 201s 2s/step - loss: 5.0360e-04 - accuracy: 1.0000 - val_loss: 6.3950e-04 - val_accuracy: 1.0000\n",
      "Epoch 5/5\n",
      "100/100 [==============================] - 211s 2s/step - loss: 2.2723e-04 - accuracy: 1.0000 - val_loss: 4.4408e-04 - val_accuracy: 1.0000\n"
     ]
    },
    {
     "data": {
      "text/plain": [
       "<keras.callbacks.callbacks.History at 0x20f32eb65f8>"
      ]
     },
     "execution_count": 3,
     "metadata": {},
     "output_type": "execute_result"
    }
   ],
   "source": [
    "#data augmentation\n",
    "from keras.preprocessing.image import ImageDataGenerator#width_shift range-how much % shift width,height_shift_range etc\n",
    "train_dataset=ImageDataGenerator(rescale=1/255)\n",
    "test_dataset=ImageDataGenerator(rescale=1/255)\n",
    "train=train_dataset.flow_from_directory(\"C:\\\\Users\\\\User\\\\Downloads\\\\ECG Images dataset of Cardiac Patients\\\\Train\",target_size=(64,64),batch_size=32,class_mode=\"binary\")\n",
    "test=test_dataset.flow_from_directory(\"C:\\\\Users\\\\User\\\\Downloads\\\\ECG Images dataset of Cardiac Patients\\\\Test\",target_size=(64,64),batch_size=32,class_mode=\"binary\")\n",
    "model.fit(train,steps_per_epoch=100,epochs=5,validation_data=test,validation_steps=100)"
   ]
  },
  {
   "cell_type": "code",
   "execution_count": 4,
   "id": "b1fe74cc",
   "metadata": {},
   "outputs": [],
   "source": [
    "import pandas as pd"
   ]
  },
  {
   "cell_type": "code",
   "execution_count": 5,
   "id": "0897bffd",
   "metadata": {},
   "outputs": [],
   "source": [
    "metrics=pd.DataFrame(model.history.history)"
   ]
  },
  {
   "cell_type": "code",
   "execution_count": 6,
   "id": "658e6ef0",
   "metadata": {},
   "outputs": [
    {
     "data": {
      "text/html": [
       "<div>\n",
       "<style scoped>\n",
       "    .dataframe tbody tr th:only-of-type {\n",
       "        vertical-align: middle;\n",
       "    }\n",
       "\n",
       "    .dataframe tbody tr th {\n",
       "        vertical-align: top;\n",
       "    }\n",
       "\n",
       "    .dataframe thead th {\n",
       "        text-align: right;\n",
       "    }\n",
       "</style>\n",
       "<table border=\"1\" class=\"dataframe\">\n",
       "  <thead>\n",
       "    <tr style=\"text-align: right;\">\n",
       "      <th></th>\n",
       "      <th>val_loss</th>\n",
       "      <th>val_accuracy</th>\n",
       "      <th>loss</th>\n",
       "      <th>accuracy</th>\n",
       "    </tr>\n",
       "  </thead>\n",
       "  <tbody>\n",
       "    <tr>\n",
       "      <th>0</th>\n",
       "      <td>0.321996</td>\n",
       "      <td>0.981132</td>\n",
       "      <td>0.412594</td>\n",
       "      <td>0.784369</td>\n",
       "    </tr>\n",
       "    <tr>\n",
       "      <th>1</th>\n",
       "      <td>0.004329</td>\n",
       "      <td>1.000000</td>\n",
       "      <td>0.023973</td>\n",
       "      <td>0.996863</td>\n",
       "    </tr>\n",
       "    <tr>\n",
       "      <th>2</th>\n",
       "      <td>0.000901</td>\n",
       "      <td>1.000000</td>\n",
       "      <td>0.001646</td>\n",
       "      <td>1.000000</td>\n",
       "    </tr>\n",
       "    <tr>\n",
       "      <th>3</th>\n",
       "      <td>0.000640</td>\n",
       "      <td>1.000000</td>\n",
       "      <td>0.000504</td>\n",
       "      <td>1.000000</td>\n",
       "    </tr>\n",
       "    <tr>\n",
       "      <th>4</th>\n",
       "      <td>0.000444</td>\n",
       "      <td>1.000000</td>\n",
       "      <td>0.000228</td>\n",
       "      <td>1.000000</td>\n",
       "    </tr>\n",
       "  </tbody>\n",
       "</table>\n",
       "</div>"
      ],
      "text/plain": [
       "   val_loss  val_accuracy      loss  accuracy\n",
       "0  0.321996      0.981132  0.412594  0.784369\n",
       "1  0.004329      1.000000  0.023973  0.996863\n",
       "2  0.000901      1.000000  0.001646  1.000000\n",
       "3  0.000640      1.000000  0.000504  1.000000\n",
       "4  0.000444      1.000000  0.000228  1.000000"
      ]
     },
     "execution_count": 6,
     "metadata": {},
     "output_type": "execute_result"
    }
   ],
   "source": [
    "metrics"
   ]
  },
  {
   "cell_type": "code",
   "execution_count": 7,
   "id": "368c4133",
   "metadata": {},
   "outputs": [
    {
     "data": {
      "text/plain": [
       "<AxesSubplot:>"
      ]
     },
     "execution_count": 7,
     "metadata": {},
     "output_type": "execute_result"
    },
    {
     "data": {
      "image/png": "[encoded data removed]",
      "text/plain": [
       "<Figure size 432x288 with 1 Axes>"
      ]
     },
     "metadata": {
      "needs_background": "light"
     },
     "output_type": "display_data"
    }
   ],
   "source": [
    "metrics[['accuracy','val_accuracy']].plot()"
   ]
  },
  {
   "cell_type": "code",
   "execution_count": 8,
   "id": "93fbde15",
   "metadata": {},
   "outputs": [
    {
     "data": {
      "text/plain": [
       "<AxesSubplot:>"
      ]
     },
     "execution_count": 8,
     "metadata": {},
     "output_type": "execute_result"
    },
    {
     "data": {
      "image/png": "[encoded data removed]",
      "text/plain": [
       "<Figure size 432x288 with 1 Axes>"
      ]
     },
     "metadata": {
      "needs_background": "light"
     },
     "output_type": "display_data"
    }
   ],
   "source": [
    "metrics[['loss','val_loss']].plot()"
   ]
  },
  {
   "cell_type": "code",
   "execution_count": 9,
   "id": "ce28cc2a",
   "metadata": {},
   "outputs": [],
   "source": [
    "model.save('C:\\\\Users\\\\User\\\\Downloads\\\\ECG Images dataset of Cardiac Patients\\\\ecg_model1.h5')"
   ]
  },
  {
   "cell_type": "code",
   "execution_count": 10,
   "id": "2b4ed197",
   "metadata": {},
   "outputs": [
    {
     "name": "stdout",
     "output_type": "stream",
     "text": [
      "[[0.]]\n",
      "heart blockage detected\n"
     ]
    }
   ],
   "source": [
    "import numpy as np\n",
    "import cv2\n",
    "from keras.preprocessing import image\n",
    "test_img=image.load_img(\"C:\\\\Users\\\\User\\\\Downloads\\\\ECG Images dataset of Cardiac Patients\\\\ECG Images of Myocardial Infarction Patients (240x12=2880)\\\\MI(1).jpg\",target_size=(64,64))\n",
    "test_img=image.img_to_array(test_img)\n",
    "test_img=np.expand_dims(test_img,axis=0)\n",
    "result=model.predict(test_img)\n",
    "print(result)\n",
    "if result[0][0]==0:\n",
    "    prediction=\"heart blockage detected\"\n",
    "    print(prediction)\n",
    "else:\n",
    "    prediction=\"healthy heart\"\n",
    "    print(prediction)"
   ]
  },
  {
   "cell_type": "code",
   "execution_count": 11,
   "id": "9d53db18",
   "metadata": {},
   "outputs": [
    {
     "name": "stdout",
     "output_type": "stream",
     "text": [
      "[[0.]]\n",
      "heart blockage detected\n"
     ]
    }
   ],
   "source": [
    "import numpy as np\n",
    "import cv2\n",
    "from keras.preprocessing import image\n",
    "test_img=image.load_img(\"C:\\\\Users\\\\User\\\\Downloads\\\\ECG Images dataset of Cardiac Patients\\\\ECG Images of Myocardial Infarction Patients (240x12=2880)\\\\MI(25).jpg\",target_size=(64,64))\n",
    "test_img=image.img_to_array(test_img)\n",
    "test_img=np.expand_dims(test_img,axis=0)\n",
    "result=model.predict(test_img)\n",
    "print(result)\n",
    "if result[0][0]==0:\n",
    "    prediction=\"heart blockage detected\"\n",
    "    print(prediction)\n",
    "else:\n",
    "    prediction=\"healthy heart\"\n",
    "    print(prediction)"
   ]
  },
  {
   "cell_type": "code",
   "execution_count": 13,
   "id": "433f6b96",
   "metadata": {},
   "outputs": [
    {
     "name": "stdout",
     "output_type": "stream",
     "text": [
      "[[1.]]\n",
      "healthy heart\n"
     ]
    }
   ],
   "source": [
    "import numpy as np\n",
    "import cv2\n",
    "from keras.preprocessing import image\n",
    "test_img=image.load_img(\"C:\\\\Users\\\\User\\\\Downloads\\\\ECG Images dataset of Cardiac Patients\\\\Test\\\\normal\\\\Normal(227).jpg\",target_size=(64,64))\n",
    "test_img=image.img_to_array(test_img)\n",
    "test_img=np.expand_dims(test_img,axis=0)\n",
    "result=model.predict(test_img)\n",
    "print(result)\n",
    "if result[0][0]==0:\n",
    "    prediction=\"heart blockage detected\"\n",
    "    print(prediction)\n",
    "else:\n",
    "    prediction=\"healthy heart\"\n",
    "    print(prediction)"
   ]
  },
  {
   "cell_type": "code",
   "execution_count": 14,
   "id": "cc1da4f3",
   "metadata": {},
   "outputs": [
    {
     "name": "stdout",
     "output_type": "stream",
     "text": [
      "[[1.]]\n",
      "healthy heart\n"
     ]
    }
   ],
   "source": [
    "import numpy as np\n",
    "import cv2\n",
    "from keras.preprocessing import image\n",
    "test_img=image.load_img(\"C:\\\\Users\\\\User\\\\Downloads\\\\normal.jpg\",target_size=(64,64))\n",
    "test_img=image.img_to_array(test_img)\n",
    "test_img=np.expand_dims(test_img,axis=0)\n",
    "result=model.predict(test_img)\n",
    "print(result)\n",
    "if result[0][0]==0:\n",
    "    prediction=\"heart blockage detected\"\n",
    "    print(prediction)\n",
    "else:\n",
    "    prediction=\"healthy heart\"\n",
    "    print(prediction)"
   ]
  },
  {
   "cell_type": "code",
   "execution_count": 16,
   "id": "8888c914",
   "metadata": {},
   "outputs": [
    {
     "name": "stdout",
     "output_type": "stream",
     "text": [
      "[[1.]]\n",
      "healthy heart\n"
     ]
    }
   ],
   "source": [
    "import numpy as np\n",
    "import cv2\n",
    "from keras.preprocessing import image\n",
    "test_img=image.load_img(\"C:\\\\Users\\\\User\\\\Downloads\\\\normal_heart_ecg.jpg\",target_size=(64,64))\n",
    "test_img=image.img_to_array(test_img)\n",
    "test_img=np.expand_dims(test_img,axis=0)\n",
    "result=model.predict(test_img)\n",
    "print(result)\n",
    "if result[0][0]==0:\n",
    "    prediction=\"heart blockage detected\"\n",
    "    print(prediction)\n",
    "else:\n",
    "    prediction=\"healthy heart\"\n",
    "    print(prediction)"
   ]
  },
  {
   "cell_type": "code",
   "execution_count": 20,
   "id": "7238f035",
   "metadata": {},
   "outputs": [
    {
     "name": "stdout",
     "output_type": "stream",
     "text": [
      "[[0.]]\n",
      "heart blockage detected\n"
     ]
    }
   ],
   "source": [
    "import numpy as np\n",
    "import cv2\n",
    "from keras.preprocessing import image\n",
    "test_img=image.load_img(\"C:\\\\Users\\\\User\\\\Downloads\\\\image_ecg.jpg\",target_size=(64,64))\n",
    "test_img=image.img_to_array(test_img)\n",
    "test_img=np.expand_dims(test_img,axis=0)\n",
    "result=model.predict(test_img)\n",
    "print(result)\n",
    "if result[0][0]==0:\n",
    "    prediction=\"heart blockage detected\"\n",
    "    print(prediction)\n",
    "else:\n",
    "    prediction=\"healthy heart\"\n",
    "    print(prediction)"
   ]
  },
  {
   "cell_type": "code",
   "execution_count": 24,
   "id": "80ff6b5f",
   "metadata": {},
   "outputs": [
    {
     "name": "stdout",
     "output_type": "stream",
     "text": [
      "[[1.]]\n",
      "healthy heart\n"
     ]
    }
   ],
   "source": [
    "import numpy as np\n",
    "import cv2\n",
    "from keras.preprocessing import image\n",
    "test_img=image.load_img(\"C:\\\\Users\\\\User\\\\Downloads\\\\heartblock.jpg\",target_size=(64,64))\n",
    "test_img=image.img_to_array(test_img)\n",
    "test_img=np.expand_dims(test_img,axis=0)\n",
    "result=model.predict(test_img)\n",
    "print(result)\n",
    "if result[0][0]==0:\n",
    "    prediction=\"heart blockage detected\"\n",
    "    print(prediction)\n",
    "else:\n",
    "    prediction=\"healthy heart\"\n",
    "    print(prediction)"
   ]
  },
  {
   "cell_type": "code",
   "execution_count": null,
   "id": "cee7c008",
   "metadata": {},
   "outputs": [],
   "source": []
  }
 ],
 "metadata": {
  "kernelspec": {
   "display_name": "Python 3",
   "language": "python",
   "name": "python3"
  },
  "language_info": {
   "codemirror_mode": {
    "name": "ipython",
    "version": 3
   },
   "file_extension": ".py",
   "mimetype": "text/x-python",
   "name": "python",
   "nbconvert_exporter": "python",
   "pygments_lexer": "ipython3",
   "version": "3.6.13"
  }
 },
 "nbformat": 4,
 "nbformat_minor": 5
}
